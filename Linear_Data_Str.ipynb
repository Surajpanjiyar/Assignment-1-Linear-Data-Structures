{
  "nbformat": 4,
  "nbformat_minor": 0,
  "metadata": {
    "colab": {
      "provenance": [],
      "authorship_tag": "ABX9TyMt/SDKOXo2vtCxN4z0APQq",
      "include_colab_link": true
    },
    "kernelspec": {
      "name": "python3",
      "display_name": "Python 3"
    },
    "language_info": {
      "name": "python"
    }
  },
  "cells": [
    {
      "cell_type": "markdown",
      "metadata": {
        "id": "view-in-github",
        "colab_type": "text"
      },
      "source": [
        "<a href=\"https://colab.research.google.com/github/Surajpanjiyar/Assignment-1-Linear-Data-Structures/blob/main/Linear_Data_Str.ipynb\" target=\"_parent\"><img src=\"https://colab.research.google.com/assets/colab-badge.svg\" alt=\"Open In Colab\"/></a>"
      ]
    },
    {
      "cell_type": "code",
      "execution_count": 3,
      "metadata": {
        "id": "gmxH04igrfvh"
      },
      "outputs": [],
      "source": [
        " # Hi Team My Jupyter is not working , so i have done all exercise on Google Colab and in GitHub."
      ]
    },
    {
      "cell_type": "code",
      "source": [
        "# Write a program to find all pairs of an integer array whose sum is equal to a given number?\n",
        "\n",
        "\n",
        "def find_pairs_with_sum(arr, target_sum):\n",
        "    pairs = []\n",
        "    for i in range(len(arr)):\n",
        "        for j in range(i + 1, len(arr)):\n",
        "            if arr[i] + arr[j] == target_sum:\n",
        "                pairs.append((arr[i], arr[j]))\n",
        "\n",
        "    return pairs\n",
        "\n",
        "arr = [1, 2, 3, 4, 5, 6]\n",
        "target_sum = 7\n",
        "result = find_pairs_with_sum(arr, target_sum)\n",
        "print(result)\n"
      ],
      "metadata": {
        "colab": {
          "base_uri": "https://localhost:8080/"
        },
        "id": "54xrMH4Fsnk3",
        "outputId": "c67d057d-4d78-4b53-bf43-c5d12f94408d"
      },
      "execution_count": 4,
      "outputs": [
        {
          "output_type": "stream",
          "name": "stdout",
          "text": [
            "[(1, 6), (2, 5), (3, 4)]\n"
          ]
        }
      ]
    },
    {
      "cell_type": "code",
      "source": [
        "#  Write a program to reverse an array in place? In place means you cannot create a new array. You have to update the original array.\n",
        "\n",
        "def reverse_array_in_place(arr):\n",
        "    start = 0\n",
        "    end = len(arr) - 1\n",
        "\n",
        "    while start < end:\n",
        "        arr[start], arr[end] = arr[end], arr[start]\n",
        "        start += 1\n",
        "        end -= 1\n",
        "\n",
        "arr = [1, 2, 3, 4, 5]\n",
        "reverse_array_in_place(arr)\n",
        "print(arr)\n"
      ],
      "metadata": {
        "colab": {
          "base_uri": "https://localhost:8080/"
        },
        "id": "9AyQDo5PtEfW",
        "outputId": "1a612b8a-7d03-4f15-84b7-86f18a6ef51b"
      },
      "execution_count": 7,
      "outputs": [
        {
          "output_type": "stream",
          "name": "stdout",
          "text": [
            "[5, 4, 3, 2, 1]\n"
          ]
        }
      ]
    },
    {
      "cell_type": "code",
      "source": [
        "# Write a program to check if two strings are a rotation of each other .\n",
        "\n",
        "def are_rotations(str1, str2):\n",
        "\n",
        "    if len(str1) != len(str2):\n",
        "        return False\n",
        "\n",
        "\n",
        "    concatenated_str = str1 + str1\n",
        "\n",
        "    if str2 in concatenated_str:\n",
        "        return True\n",
        "    else:\n",
        "        return False\n",
        "\n",
        "string1 = \"abcd\"\n",
        "string2 = \"cdab\"\n",
        "result = are_rotations(string1, string2)\n",
        "\n",
        "if result:\n",
        "    print(f\"{string1} and {string2} are rotations of each other.\")\n",
        "else:\n",
        "    print(f\"{string1} and {string2} are not rotations of each other.\")\n"
      ],
      "metadata": {
        "colab": {
          "base_uri": "https://localhost:8080/"
        },
        "id": "b_PU10Wcty5o",
        "outputId": "a884e179-0405-472f-a60f-2b910f685a41"
      },
      "execution_count": 10,
      "outputs": [
        {
          "output_type": "stream",
          "name": "stdout",
          "text": [
            "abcd and cdab are rotations of each other.\n"
          ]
        }
      ]
    },
    {
      "cell_type": "code",
      "source": [
        "#  Write a program to print the first non-repeated character from a string .\n",
        "\n",
        "def first_non_repeated_char(input_str):\n",
        "    char_count = {}\n",
        "\n",
        "\n",
        "    for char in input_str:\n",
        "        if char in char_count:\n",
        "            char_count[char] += 1\n",
        "        else:\n",
        "            char_count[char] = 1\n",
        "\n",
        "\n",
        "    for char in input_str:\n",
        "        if char_count[char] == 1:\n",
        "            return char\n",
        "\n",
        "\n",
        "    return None\n",
        "\n",
        "input_string = \"programming\"\n",
        "result = first_non_repeated_char(input_string)\n",
        "\n",
        "if result is not None:\n",
        "    print(f\"The first non-repeated character in '{input_string}' is '{result}'.\")\n",
        "else:\n",
        "    print(\"There are no non-repeated characters in the string.\")\n"
      ],
      "metadata": {
        "colab": {
          "base_uri": "https://localhost:8080/"
        },
        "id": "yvVMWTHzuM8O",
        "outputId": "58166381-1814-495e-f143-f6f3a8a73e65"
      },
      "execution_count": 13,
      "outputs": [
        {
          "output_type": "stream",
          "name": "stdout",
          "text": [
            "The first non-repeated character in 'programming' is 'p'.\n"
          ]
        }
      ]
    },
    {
      "cell_type": "code",
      "source": [
        "# Read about the Tower of Hanoi algorithm. Write a program to implement it.\n",
        "\n",
        "def tower_of_hanoi(n, source_rod, auxiliary_rod, target_rod):\n",
        "    if n == 1:\n",
        "        print(f\"Move disk 1 from {source_rod} to {target_rod}\")\n",
        "        return\n",
        "    tower_of_hanoi(n - 1, source_rod, target_rod, auxiliary_rod)\n",
        "    print(f\"Move disk {n} from {source_rod} to {target_rod}\")\n",
        "    tower_of_hanoi(n - 1, auxiliary_rod, source_rod, target_rod)\n",
        "\n",
        "\n",
        "num_disks = 3\n",
        "tower_of_hanoi(num_disks, 'A', 'B', 'C')\n"
      ],
      "metadata": {
        "colab": {
          "base_uri": "https://localhost:8080/"
        },
        "id": "b1F3oLDBxPh-",
        "outputId": "fcfec168-7b36-42eb-eca2-694b84f4bab4"
      },
      "execution_count": 14,
      "outputs": [
        {
          "output_type": "stream",
          "name": "stdout",
          "text": [
            "Move disk 1 from A to C\n",
            "Move disk 2 from A to B\n",
            "Move disk 1 from C to B\n",
            "Move disk 3 from A to C\n",
            "Move disk 1 from B to A\n",
            "Move disk 2 from B to C\n",
            "Move disk 1 from A to C\n"
          ]
        }
      ]
    },
    {
      "cell_type": "code",
      "source": [
        "#  Read about infix, prefix, and postfix expressions. Write a program to convert postfix to prefix expression.\n",
        "\n",
        "def is_operator(char):\n",
        "    return char in \"+-*/\"\n",
        "\n",
        "def postfix_to_prefix(postfix_expression):\n",
        "    stack = []\n",
        "\n",
        "    for char in postfix_expression:\n",
        "        if not is_operator(char):\n",
        "            stack.append(char)\n",
        "        else:\n",
        "            operand2 = stack.pop()\n",
        "            operand1 = stack.pop()\n",
        "            prefix_expression = char + operand1 + operand2\n",
        "            stack.append(prefix_expression)\n",
        "\n",
        "\n",
        "    if stack:\n",
        "        return stack[0]\n",
        "    else:\n",
        "        return \"\"\n",
        "\n",
        "postfix_expression = \"23+5*\"\n",
        "prefix_expression = postfix_to_prefix(postfix_expression)\n",
        "print(\"Prefix Expression:\", prefix_expression)\n"
      ],
      "metadata": {
        "colab": {
          "base_uri": "https://localhost:8080/"
        },
        "id": "BoAK3IcHxzpT",
        "outputId": "e0df796e-0044-4913-ec8c-210df26c99bc"
      },
      "execution_count": 17,
      "outputs": [
        {
          "output_type": "stream",
          "name": "stdout",
          "text": [
            "Prefix Expression: *+235\n"
          ]
        }
      ]
    },
    {
      "cell_type": "code",
      "source": [
        "# Write a program to convert prefix expression to infix expression.\n",
        "\n",
        "def is_operator(char):\n",
        "    return char in \"+-*/\"\n",
        "\n",
        "def prefix_to_infix(prefix_expression):\n",
        "    stack = []\n",
        "\n",
        "\n",
        "    for char in reversed(prefix_expression):\n",
        "        if not is_operator(char):\n",
        "            stack.append(char)\n",
        "        else:\n",
        "            operand1 = stack.pop()\n",
        "            operand2 = stack.pop()\n",
        "            infix_expression = f\"({operand1}{char}{operand2})\"\n",
        "            stack.append(infix_expression)\n",
        "\n",
        "\n",
        "    if stack:\n",
        "        return stack[0]\n",
        "    else:\n",
        "        return \"\"\n",
        "\n",
        "\n",
        "prefix_expression = \"*+23/45\"\n",
        "infix_expression = prefix_to_infix(prefix_expression)\n",
        "print(\"Infix Expression:\", infix_expression)\n"
      ],
      "metadata": {
        "colab": {
          "base_uri": "https://localhost:8080/"
        },
        "id": "6A2mM6MByLeL",
        "outputId": "41500d3e-f3ca-44fb-9bab-6957658bafe2"
      },
      "execution_count": 18,
      "outputs": [
        {
          "output_type": "stream",
          "name": "stdout",
          "text": [
            "Infix Expression: ((2+3)*(4/5))\n"
          ]
        }
      ]
    },
    {
      "cell_type": "code",
      "source": [
        "#  Write a program to check if all the brackets are closed in a given code snippet.\n",
        "\n",
        "def are_brackets_balanced(code):\n",
        "    stack = []\n",
        "    bracket_pairs = {')': '(', '}': '{', ']': '['}\n",
        "\n",
        "    for char in code:\n",
        "        if char in '([{':\n",
        "            stack.append(char)\n",
        "        elif char in ')]}':\n",
        "            if not stack:\n",
        "                return False\n",
        "            if stack[-1] == bracket_pairs[char]:\n",
        "                stack.pop()\n",
        "            else:\n",
        "                return False\n",
        "\n",
        "    return len(stack) == 0\n",
        "\n",
        "\n",
        "code_snippet = \"(a + b) * [c - d]{}\"\n",
        "result = are_brackets_balanced(code_snippet)\n",
        "\n",
        "if result:\n",
        "    print(\"All brackets are balanced in the code snippet.\")\n",
        "else:\n",
        "    print(\"Brackets are not balanced in the code snippet.\")\n"
      ],
      "metadata": {
        "colab": {
          "base_uri": "https://localhost:8080/"
        },
        "id": "IhPgh6J0yrg8",
        "outputId": "3f2a7b09-058f-456b-b5af-8b078c272be4"
      },
      "execution_count": 21,
      "outputs": [
        {
          "output_type": "stream",
          "name": "stdout",
          "text": [
            "All brackets are balanced in the code snippet.\n"
          ]
        }
      ]
    },
    {
      "cell_type": "code",
      "source": [
        "# Write a program to reverse a stack.\n",
        "\n",
        "class Stack:\n",
        "    def __init__(self):\n",
        "        self.items = []\n",
        "\n",
        "    def push(self, item):\n",
        "        self.items.append(item)\n",
        "\n",
        "    def pop(self):\n",
        "        if not self.is_empty():\n",
        "            return self.items.pop()\n",
        "        else:\n",
        "            raise IndexError(\"Pop from an empty stack\")\n",
        "\n",
        "    def is_empty(self):\n",
        "        return len(self.items) == 0\n",
        "\n",
        "    def size(self):\n",
        "        return len(self.items)\n",
        "\n",
        "def reverse_stack(input_stack):\n",
        "    aux_stack = Stack()\n",
        "\n",
        "\n",
        "    while not input_stack.is_empty():\n",
        "        aux_stack.push(input_stack.pop())\n",
        "\n",
        "\n",
        "    while not aux_stack.is_empty():\n",
        "        input_stack.push(aux_stack.pop())\n",
        "\n",
        "\n",
        "stack = Stack()\n",
        "stack.push(1)\n",
        "stack.push(2)\n",
        "stack.push(3)\n",
        "\n",
        "print(\"Original Stack:\", stack.items)\n",
        "reverse_stack(stack)\n",
        "print(\"Reversed Stack:\", stack.items)\n"
      ],
      "metadata": {
        "colab": {
          "base_uri": "https://localhost:8080/"
        },
        "id": "rOO8STbm0BgX",
        "outputId": "b3cc8ed8-6ad6-446d-eb6b-ea1f56bd35f8"
      },
      "execution_count": 26,
      "outputs": [
        {
          "output_type": "stream",
          "name": "stdout",
          "text": [
            "Original Stack: [1, 2, 3]\n",
            "Reversed Stack: [1, 2, 3]\n"
          ]
        }
      ]
    },
    {
      "cell_type": "code",
      "source": [
        "# Write a program to find the smallest number using a stack.\n",
        "\n",
        "class MinStack:\n",
        "    def __init__(self):\n",
        "        self.main_stack = []\n",
        "        self.min_stack = []\n",
        "\n",
        "    def push(self, value):\n",
        "        self.main_stack.append(value)\n",
        "        if not self.min_stack or value <= self.min_stack[-1]:\n",
        "            self.min_stack.append(value)\n",
        "\n",
        "    def pop(self):\n",
        "        if not self.is_empty():\n",
        "            popped_value = self.main_stack.pop()\n",
        "            if popped_value == self.min_stack[-1]:\n",
        "                self.min_stack.pop()\n",
        "            return popped_value\n",
        "        else:\n",
        "            raise IndexError(\"Pop from an empty stack\")\n",
        "\n",
        "    def is_empty(self):\n",
        "        return len(self.main_stack) == 0\n",
        "\n",
        "    def get_min(self):\n",
        "        if not self.is_empty():\n",
        "            return self.min_stack[-1]\n",
        "        else:\n",
        "            raise IndexError(\"Stack is empty\")\n",
        "\n",
        "\n",
        "stack = MinStack()\n",
        "stack.push(3)\n",
        "stack.push(5)\n",
        "stack.push(2)\n",
        "stack.push(27)\n",
        "\n",
        "print(\"Smallest Number:\", stack.get_min())\n"
      ],
      "metadata": {
        "colab": {
          "base_uri": "https://localhost:8080/"
        },
        "id": "pKDetR9r0ugG",
        "outputId": "b735693b-1c2f-4644-b81f-e7581c70d858"
      },
      "execution_count": 28,
      "outputs": [
        {
          "output_type": "stream",
          "name": "stdout",
          "text": [
            "Smallest Number: 2\n"
          ]
        }
      ]
    }
  ]
}